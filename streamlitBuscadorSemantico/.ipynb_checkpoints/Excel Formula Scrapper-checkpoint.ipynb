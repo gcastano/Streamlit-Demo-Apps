{
 "cells": [
  {
   "cell_type": "code",
   "execution_count": 2,
   "id": "2662ffe1",
   "metadata": {},
   "outputs": [],
   "source": [
    "import requests\n",
    "from bs4 import BeautifulSoup\n",
    "import pandas as pd"
   ]
  },
  {
   "cell_type": "code",
   "execution_count": 57,
   "id": "621fc75c",
   "metadata": {},
   "outputs": [],
   "source": [
    "URL_ES = \"https://support.microsoft.com/es-es/office/funciones-de-excel-por-orden-alfab%C3%A9tico-b3944572-255d-4efb-bb96-c6d90033e188\"\n",
    "URL_EN = \"https://support.microsoft.com/en-us/office/excel-functions-alphabetical-b3944572-255d-4efb-bb96-c6d90033e188\"\n",
    "\n",
    "# url =results[1:][0].find('a')['href']\n",
    "# formula= results[1:][0].find('a').text\n",
    "# categoria=results[1:][0].find_all('td')[1].find('b').text\n",
    "# descripcion = results[1:][0].find_all('td')[1].find('p').text.split('\\xa0')[3]\n",
    "dfFormulas = pd.DataFrame()\n",
    "for url in [URL_ES,URL_EN]:\n",
    "    idioma = URL_ES.split('/')[3]\n",
    "    page = requests.get(URL_EN)\n",
    "    soup = BeautifulSoup(page.content, \"html.parser\")\n",
    "    results = soup.find_all('tr')\n",
    "\n",
    "    for fila in results[1:]:\n",
    "        url =results[1:][0].find('a')['href']\n",
    "        formula= fila.find('a').text\n",
    "        categoria=fila.find_all('td')[1].find('b').text.replace(':','').strip()\n",
    "        descripcion = fila.find_all('td')[1].find('p').text.split('\\xa0')[-1].strip()\n",
    "        filaDatos = {'formula' : [formula], 'categoria' : [categoria], 'descripcion': [descripcion], 'url': f'https://support.microsoft.com{url}', 'idioma':[idioma]}    \n",
    "        dfFormulas =pd.concat([dfFormulas,pd.DataFrame(filaDatos)])"
   ]
  },
  {
   "cell_type": "code",
   "execution_count": 65,
   "id": "be59c81e",
   "metadata": {},
   "outputs": [
    {
     "data": {
      "text/plain": [
       "'es-es'"
      ]
     },
     "execution_count": 65,
     "metadata": {},
     "output_type": "execute_result"
    }
   ],
   "source": [
    "URL_ES.split('/')[3]"
   ]
  },
  {
   "cell_type": "code",
   "execution_count": 44,
   "id": "5a5cfe5f",
   "metadata": {},
   "outputs": [
    {
     "data": {
      "text/plain": [
       "'Devuelve una imagen de un origen determinado'"
      ]
     },
     "execution_count": 44,
     "metadata": {},
     "output_type": "execute_result"
    }
   ],
   "source": [
    "fila.find_all('td')[1].find('p').text.split('\\xa0')[-1]"
   ]
  },
  {
   "cell_type": "code",
   "execution_count": 38,
   "id": "36ece1a0",
   "metadata": {},
   "outputs": [
    {
     "data": {
      "text/plain": [
       "'Ajusta por columnas la fila o columna de valores proporcionada después de un número especificado de elementos.'"
      ]
     },
     "execution_count": 38,
     "metadata": {},
     "output_type": "execute_result"
    }
   ],
   "source": [
    "results[1:][0].find_all('td')[1].find('p').text.split('\\xa0')[3]"
   ]
  }
 ],
 "metadata": {
  "kernelspec": {
   "display_name": "Python 3 (ipykernel)",
   "language": "python",
   "name": "python3"
  },
  "language_info": {
   "codemirror_mode": {
    "name": "ipython",
    "version": 3
   },
   "file_extension": ".py",
   "mimetype": "text/x-python",
   "name": "python",
   "nbconvert_exporter": "python",
   "pygments_lexer": "ipython3",
   "version": "3.11.1"
  }
 },
 "nbformat": 4,
 "nbformat_minor": 5
}
